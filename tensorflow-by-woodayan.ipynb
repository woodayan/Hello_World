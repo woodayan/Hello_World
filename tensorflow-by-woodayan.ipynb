{
 "cells": [
  {
   "cell_type": "code",
   "execution_count": 1,
   "id": "e16bb933",
   "metadata": {
    "_cell_guid": "b1076dfc-b9ad-4769-8c92-a6c4dae69d19",
    "_uuid": "8f2839f25d086af736a60e9eeb907d3b93b6e0e5",
    "execution": {
     "iopub.execute_input": "2022-02-23T14:27:57.422374Z",
     "iopub.status.busy": "2022-02-23T14:27:57.420428Z",
     "iopub.status.idle": "2022-02-23T14:27:57.439374Z",
     "shell.execute_reply": "2022-02-23T14:27:57.439994Z",
     "shell.execute_reply.started": "2022-02-23T13:26:16.132095Z"
    },
    "papermill": {
     "duration": 0.052522,
     "end_time": "2022-02-23T14:27:57.440311",
     "exception": false,
     "start_time": "2022-02-23T14:27:57.387789",
     "status": "completed"
    },
    "tags": []
   },
   "outputs": [
    {
     "name": "stdout",
     "output_type": "stream",
     "text": [
      "/kaggle/input/iris/Iris.csv\n",
      "/kaggle/input/iris/database.sqlite\n"
     ]
    }
   ],
   "source": [
    "# This Python 3 environment comes with many helpful analytics libraries installed\n",
    "# It is defined by the kaggle/python Docker image: https://github.com/kaggle/docker-python\n",
    "# For example, here's several helpful packages to load\n",
    "\n",
    "import numpy as np # linear algebra\n",
    "import pandas as pd # data processing, CSV file I/O (e.g. pd.read_csv)\n",
    "\n",
    "# Input data files are available in the read-only \"../input/\" directory\n",
    "# For example, running this (by clicking run or pressing Shift+Enter) will list all files under the input directory\n",
    "\n",
    "import os\n",
    "for dirname, _, filenames in os.walk('/kaggle/input'):\n",
    "    for filename in filenames:\n",
    "        print(os.path.join(dirname, filename))\n",
    "\n",
    "# You can write up to 20GB to the current directory (/kaggle/working/) that gets preserved as output when you create a version using \"Save & Run All\" \n",
    "# You can also write temporary files to /kaggle/temp/, but they won't be saved outside of the current session"
   ]
  },
  {
   "cell_type": "code",
   "execution_count": 2,
   "id": "b8c48a26",
   "metadata": {
    "execution": {
     "iopub.execute_input": "2022-02-23T14:27:57.507228Z",
     "iopub.status.busy": "2022-02-23T14:27:57.505472Z",
     "iopub.status.idle": "2022-02-23T14:28:05.724981Z",
     "shell.execute_reply": "2022-02-23T14:28:05.724290Z",
     "shell.execute_reply.started": "2022-02-23T13:39:35.548573Z"
    },
    "papermill": {
     "duration": 8.255352,
     "end_time": "2022-02-23T14:28:05.725128",
     "exception": false,
     "start_time": "2022-02-23T14:27:57.469776",
     "status": "completed"
    },
    "tags": []
   },
   "outputs": [],
   "source": [
    "import tensorflow as tf\n",
    "from tensorflow import keras\n",
    "from tensorflow.keras import layers\n",
    "\n",
    "# Make NumPy printouts easier to read.\n",
    "np.set_printoptions(precision=3, suppress=True)"
   ]
  },
  {
   "cell_type": "code",
   "execution_count": 3,
   "id": "af01edc8",
   "metadata": {
    "execution": {
     "iopub.execute_input": "2022-02-23T14:28:05.781011Z",
     "iopub.status.busy": "2022-02-23T14:28:05.780234Z",
     "iopub.status.idle": "2022-02-23T14:28:06.846865Z",
     "shell.execute_reply": "2022-02-23T14:28:06.846189Z",
     "shell.execute_reply.started": "2022-02-23T14:16:32.943093Z"
    },
    "papermill": {
     "duration": 1.096919,
     "end_time": "2022-02-23T14:28:06.847074",
     "exception": false,
     "start_time": "2022-02-23T14:28:05.750155",
     "status": "completed"
    },
    "tags": []
   },
   "outputs": [],
   "source": [
    "import seaborn as sns\n",
    "from matplotlib import pyplot as plt\n",
    "from sklearn.metrics import mean_absolute_error"
   ]
  },
  {
   "cell_type": "code",
   "execution_count": 4,
   "id": "d08fcdfb",
   "metadata": {
    "execution": {
     "iopub.execute_input": "2022-02-23T14:28:06.903598Z",
     "iopub.status.busy": "2022-02-23T14:28:06.902825Z",
     "iopub.status.idle": "2022-02-23T14:28:06.943653Z",
     "shell.execute_reply": "2022-02-23T14:28:06.943085Z",
     "shell.execute_reply.started": "2022-02-23T13:39:47.924807Z"
    },
    "papermill": {
     "duration": 0.071667,
     "end_time": "2022-02-23T14:28:06.943798",
     "exception": false,
     "start_time": "2022-02-23T14:28:06.872131",
     "status": "completed"
    },
    "tags": []
   },
   "outputs": [
    {
     "data": {
      "text/html": [
       "<div>\n",
       "<style scoped>\n",
       "    .dataframe tbody tr th:only-of-type {\n",
       "        vertical-align: middle;\n",
       "    }\n",
       "\n",
       "    .dataframe tbody tr th {\n",
       "        vertical-align: top;\n",
       "    }\n",
       "\n",
       "    .dataframe thead th {\n",
       "        text-align: right;\n",
       "    }\n",
       "</style>\n",
       "<table border=\"1\" class=\"dataframe\">\n",
       "  <thead>\n",
       "    <tr style=\"text-align: right;\">\n",
       "      <th></th>\n",
       "      <th>Id</th>\n",
       "      <th>SepalLengthCm</th>\n",
       "      <th>SepalWidthCm</th>\n",
       "      <th>PetalLengthCm</th>\n",
       "      <th>PetalWidthCm</th>\n",
       "      <th>Species</th>\n",
       "    </tr>\n",
       "  </thead>\n",
       "  <tbody>\n",
       "    <tr>\n",
       "      <th>0</th>\n",
       "      <td>1</td>\n",
       "      <td>5.1</td>\n",
       "      <td>3.5</td>\n",
       "      <td>1.4</td>\n",
       "      <td>0.2</td>\n",
       "      <td>Iris-setosa</td>\n",
       "    </tr>\n",
       "    <tr>\n",
       "      <th>1</th>\n",
       "      <td>2</td>\n",
       "      <td>4.9</td>\n",
       "      <td>3.0</td>\n",
       "      <td>1.4</td>\n",
       "      <td>0.2</td>\n",
       "      <td>Iris-setosa</td>\n",
       "    </tr>\n",
       "    <tr>\n",
       "      <th>2</th>\n",
       "      <td>3</td>\n",
       "      <td>4.7</td>\n",
       "      <td>3.2</td>\n",
       "      <td>1.3</td>\n",
       "      <td>0.2</td>\n",
       "      <td>Iris-setosa</td>\n",
       "    </tr>\n",
       "    <tr>\n",
       "      <th>3</th>\n",
       "      <td>4</td>\n",
       "      <td>4.6</td>\n",
       "      <td>3.1</td>\n",
       "      <td>1.5</td>\n",
       "      <td>0.2</td>\n",
       "      <td>Iris-setosa</td>\n",
       "    </tr>\n",
       "  </tbody>\n",
       "</table>\n",
       "</div>"
      ],
      "text/plain": [
       "   Id  SepalLengthCm  SepalWidthCm  PetalLengthCm  PetalWidthCm      Species\n",
       "0   1            5.1           3.5            1.4           0.2  Iris-setosa\n",
       "1   2            4.9           3.0            1.4           0.2  Iris-setosa\n",
       "2   3            4.7           3.2            1.3           0.2  Iris-setosa\n",
       "3   4            4.6           3.1            1.5           0.2  Iris-setosa"
      ]
     },
     "execution_count": 4,
     "metadata": {},
     "output_type": "execute_result"
    }
   ],
   "source": [
    "dataset = pd.read_csv(\"../input/iris/Iris.csv\")\n",
    "dataset[:4]"
   ]
  },
  {
   "cell_type": "code",
   "execution_count": 5,
   "id": "f7e1e62a",
   "metadata": {
    "execution": {
     "iopub.execute_input": "2022-02-23T14:28:06.998465Z",
     "iopub.status.busy": "2022-02-23T14:28:06.997767Z",
     "iopub.status.idle": "2022-02-23T14:28:07.006731Z",
     "shell.execute_reply": "2022-02-23T14:28:07.007296Z",
     "shell.execute_reply.started": "2022-02-23T13:40:51.626797Z"
    },
    "papermill": {
     "duration": 0.038075,
     "end_time": "2022-02-23T14:28:07.007483",
     "exception": false,
     "start_time": "2022-02-23T14:28:06.969408",
     "status": "completed"
    },
    "tags": []
   },
   "outputs": [],
   "source": [
    "train_dataset = dataset.sample(frac=0.8, random_state=0)\n",
    "test_dataset = dataset.drop(train_dataset.index)"
   ]
  },
  {
   "cell_type": "code",
   "execution_count": 6,
   "id": "3fd5a571",
   "metadata": {
    "execution": {
     "iopub.execute_input": "2022-02-23T14:28:07.067178Z",
     "iopub.status.busy": "2022-02-23T14:28:07.066296Z",
     "iopub.status.idle": "2022-02-23T14:28:07.071783Z",
     "shell.execute_reply": "2022-02-23T14:28:07.071190Z",
     "shell.execute_reply.started": "2022-02-23T13:49:46.306883Z"
    },
    "papermill": {
     "duration": 0.037142,
     "end_time": "2022-02-23T14:28:07.071963",
     "exception": false,
     "start_time": "2022-02-23T14:28:07.034821",
     "status": "completed"
    },
    "tags": []
   },
   "outputs": [],
   "source": [
    "train_features = train_dataset.copy()\n",
    "test_features = test_dataset.copy()"
   ]
  },
  {
   "cell_type": "code",
   "execution_count": 7,
   "id": "8788a136",
   "metadata": {
    "execution": {
     "iopub.execute_input": "2022-02-23T14:28:07.134335Z",
     "iopub.status.busy": "2022-02-23T14:28:07.133528Z",
     "iopub.status.idle": "2022-02-23T14:28:10.714779Z",
     "shell.execute_reply": "2022-02-23T14:28:10.714213Z",
     "shell.execute_reply.started": "2022-02-23T13:43:21.448993Z"
    },
    "papermill": {
     "duration": 3.616123,
     "end_time": "2022-02-23T14:28:10.714976",
     "exception": false,
     "start_time": "2022-02-23T14:28:07.098853",
     "status": "completed"
    },
    "tags": []
   },
   "outputs": [
    {
     "data": {
      "image/png": "[encoded data removed]",
      "text/plain": [
       "<Figure size 720x720 with 20 Axes>"
      ]
     },
     "metadata": {
      "needs_background": "light"
     },
     "output_type": "display_data"
    }
   ],
   "source": [
    "sns.pairplot(train_dataset[['SepalLengthCm', 'SepalWidthCm', 'PetalLengthCm', 'PetalWidthCm']], diag_kind='kde');"
   ]
  },
  {
   "cell_type": "code",
   "execution_count": 8,
   "id": "502a3d1e",
   "metadata": {
    "execution": {
     "iopub.execute_input": "2022-02-23T14:28:10.781706Z",
     "iopub.status.busy": "2022-02-23T14:28:10.780764Z",
     "iopub.status.idle": "2022-02-23T14:28:10.808478Z",
     "shell.execute_reply": "2022-02-23T14:28:10.809184Z",
     "shell.execute_reply.started": "2022-02-23T13:50:43.850828Z"
    },
    "papermill": {
     "duration": 0.065595,
     "end_time": "2022-02-23T14:28:10.809363",
     "exception": false,
     "start_time": "2022-02-23T14:28:10.743768",
     "status": "completed"
    },
    "tags": []
   },
   "outputs": [
    {
     "data": {
      "text/html": [
       "<div>\n",
       "<style scoped>\n",
       "    .dataframe tbody tr th:only-of-type {\n",
       "        vertical-align: middle;\n",
       "    }\n",
       "\n",
       "    .dataframe tbody tr th {\n",
       "        vertical-align: top;\n",
       "    }\n",
       "\n",
       "    .dataframe thead th {\n",
       "        text-align: right;\n",
       "    }\n",
       "</style>\n",
       "<table border=\"1\" class=\"dataframe\">\n",
       "  <thead>\n",
       "    <tr style=\"text-align: right;\">\n",
       "      <th></th>\n",
       "      <th>count</th>\n",
       "      <th>mean</th>\n",
       "      <th>std</th>\n",
       "      <th>min</th>\n",
       "      <th>25%</th>\n",
       "      <th>50%</th>\n",
       "      <th>75%</th>\n",
       "      <th>max</th>\n",
       "    </tr>\n",
       "  </thead>\n",
       "  <tbody>\n",
       "    <tr>\n",
       "      <th>Id</th>\n",
       "      <td>120.0</td>\n",
       "      <td>74.975000</td>\n",
       "      <td>43.966080</td>\n",
       "      <td>1.0</td>\n",
       "      <td>37.5</td>\n",
       "      <td>74.50</td>\n",
       "      <td>112.25</td>\n",
       "      <td>150.0</td>\n",
       "    </tr>\n",
       "    <tr>\n",
       "      <th>SepalLengthCm</th>\n",
       "      <td>120.0</td>\n",
       "      <td>5.823333</td>\n",
       "      <td>0.828660</td>\n",
       "      <td>4.3</td>\n",
       "      <td>5.1</td>\n",
       "      <td>5.75</td>\n",
       "      <td>6.40</td>\n",
       "      <td>7.9</td>\n",
       "    </tr>\n",
       "    <tr>\n",
       "      <th>SepalWidthCm</th>\n",
       "      <td>120.0</td>\n",
       "      <td>3.050833</td>\n",
       "      <td>0.438292</td>\n",
       "      <td>2.0</td>\n",
       "      <td>2.8</td>\n",
       "      <td>3.00</td>\n",
       "      <td>3.30</td>\n",
       "      <td>4.4</td>\n",
       "    </tr>\n",
       "    <tr>\n",
       "      <th>PetalLengthCm</th>\n",
       "      <td>120.0</td>\n",
       "      <td>3.752500</td>\n",
       "      <td>1.753075</td>\n",
       "      <td>1.0</td>\n",
       "      <td>1.6</td>\n",
       "      <td>4.40</td>\n",
       "      <td>5.10</td>\n",
       "      <td>6.9</td>\n",
       "    </tr>\n",
       "    <tr>\n",
       "      <th>PetalWidthCm</th>\n",
       "      <td>120.0</td>\n",
       "      <td>1.200000</td>\n",
       "      <td>0.755818</td>\n",
       "      <td>0.1</td>\n",
       "      <td>0.3</td>\n",
       "      <td>1.35</td>\n",
       "      <td>1.80</td>\n",
       "      <td>2.5</td>\n",
       "    </tr>\n",
       "  </tbody>\n",
       "</table>\n",
       "</div>"
      ],
      "text/plain": [
       "               count       mean        std  min   25%    50%     75%    max\n",
       "Id             120.0  74.975000  43.966080  1.0  37.5  74.50  112.25  150.0\n",
       "SepalLengthCm  120.0   5.823333   0.828660  4.3   5.1   5.75    6.40    7.9\n",
       "SepalWidthCm   120.0   3.050833   0.438292  2.0   2.8   3.00    3.30    4.4\n",
       "PetalLengthCm  120.0   3.752500   1.753075  1.0   1.6   4.40    5.10    6.9\n",
       "PetalWidthCm   120.0   1.200000   0.755818  0.1   0.3   1.35    1.80    2.5"
      ]
     },
     "execution_count": 8,
     "metadata": {},
     "output_type": "execute_result"
    }
   ],
   "source": [
    "train_dataset.describe().transpose()"
   ]
  },
  {
   "cell_type": "code",
   "execution_count": 9,
   "id": "e7396ed6",
   "metadata": {
    "execution": {
     "iopub.execute_input": "2022-02-23T14:28:10.877299Z",
     "iopub.status.busy": "2022-02-23T14:28:10.876589Z",
     "iopub.status.idle": "2022-02-23T14:28:10.895909Z",
     "shell.execute_reply": "2022-02-23T14:28:10.896462Z",
     "shell.execute_reply.started": "2022-02-23T13:51:56.267799Z"
    },
    "papermill": {
     "duration": 0.058298,
     "end_time": "2022-02-23T14:28:10.896641",
     "exception": false,
     "start_time": "2022-02-23T14:28:10.838343",
     "status": "completed"
    },
    "tags": []
   },
   "outputs": [
    {
     "data": {
      "text/html": [
       "<div>\n",
       "<style scoped>\n",
       "    .dataframe tbody tr th:only-of-type {\n",
       "        vertical-align: middle;\n",
       "    }\n",
       "\n",
       "    .dataframe tbody tr th {\n",
       "        vertical-align: top;\n",
       "    }\n",
       "\n",
       "    .dataframe thead th {\n",
       "        text-align: right;\n",
       "    }\n",
       "</style>\n",
       "<table border=\"1\" class=\"dataframe\">\n",
       "  <thead>\n",
       "    <tr style=\"text-align: right;\">\n",
       "      <th></th>\n",
       "      <th>mean</th>\n",
       "      <th>std</th>\n",
       "    </tr>\n",
       "  </thead>\n",
       "  <tbody>\n",
       "    <tr>\n",
       "      <th>Id</th>\n",
       "      <td>74.975000</td>\n",
       "      <td>43.966080</td>\n",
       "    </tr>\n",
       "    <tr>\n",
       "      <th>SepalLengthCm</th>\n",
       "      <td>5.823333</td>\n",
       "      <td>0.828660</td>\n",
       "    </tr>\n",
       "    <tr>\n",
       "      <th>SepalWidthCm</th>\n",
       "      <td>3.050833</td>\n",
       "      <td>0.438292</td>\n",
       "    </tr>\n",
       "    <tr>\n",
       "      <th>PetalLengthCm</th>\n",
       "      <td>3.752500</td>\n",
       "      <td>1.753075</td>\n",
       "    </tr>\n",
       "    <tr>\n",
       "      <th>PetalWidthCm</th>\n",
       "      <td>1.200000</td>\n",
       "      <td>0.755818</td>\n",
       "    </tr>\n",
       "  </tbody>\n",
       "</table>\n",
       "</div>"
      ],
      "text/plain": [
       "                    mean        std\n",
       "Id             74.975000  43.966080\n",
       "SepalLengthCm   5.823333   0.828660\n",
       "SepalWidthCm    3.050833   0.438292\n",
       "PetalLengthCm   3.752500   1.753075\n",
       "PetalWidthCm    1.200000   0.755818"
      ]
     },
     "execution_count": 9,
     "metadata": {},
     "output_type": "execute_result"
    }
   ],
   "source": [
    "train_dataset.describe().transpose()[['mean', 'std']]"
   ]
  },
  {
   "cell_type": "markdown",
   "id": "2279d49e",
   "metadata": {
    "papermill": {
     "duration": 0.02994,
     "end_time": "2022-02-23T14:28:10.959288",
     "exception": false,
     "start_time": "2022-02-23T14:28:10.929348",
     "status": "completed"
    },
    "tags": []
   },
   "source": [
    "The Normalization layer\n",
    "\n",
    "\n",
    "The tf.keras.layers.Normalization is a clean and simple way to add feature normalization into your model.\n",
    "\n",
    "The first step is to create the layer:"
   ]
  },
  {
   "cell_type": "code",
   "execution_count": 10,
   "id": "5a50b8f8",
   "metadata": {
    "execution": {
     "iopub.execute_input": "2022-02-23T14:28:11.025433Z",
     "iopub.status.busy": "2022-02-23T14:28:11.024726Z",
     "iopub.status.idle": "2022-02-23T14:28:11.057658Z",
     "shell.execute_reply": "2022-02-23T14:28:11.058218Z",
     "shell.execute_reply.started": "2022-02-23T13:53:10.417528Z"
    },
    "papermill": {
     "duration": 0.069484,
     "end_time": "2022-02-23T14:28:11.058403",
     "exception": false,
     "start_time": "2022-02-23T14:28:10.988919",
     "status": "completed"
    },
    "tags": []
   },
   "outputs": [],
   "source": [
    "normalizer = tf.keras.layers.Normalization(axis=-1)"
   ]
  },
  {
   "cell_type": "code",
   "execution_count": 11,
   "id": "9fa13e46",
   "metadata": {
    "execution": {
     "iopub.execute_input": "2022-02-23T14:28:11.121064Z",
     "iopub.status.busy": "2022-02-23T14:28:11.120323Z",
     "iopub.status.idle": "2022-02-23T14:28:11.577540Z",
     "shell.execute_reply": "2022-02-23T14:28:11.578105Z",
     "shell.execute_reply.started": "2022-02-23T13:54:30.281851Z"
    },
    "papermill": {
     "duration": 0.490252,
     "end_time": "2022-02-23T14:28:11.578289",
     "exception": false,
     "start_time": "2022-02-23T14:28:11.088037",
     "status": "completed"
    },
    "tags": []
   },
   "outputs": [
    {
     "name": "stderr",
     "output_type": "stream",
     "text": [
      "2022-02-23 14:28:11.136024: I tensorflow/core/common_runtime/process_util.cc:146] Creating new thread pool with default inter op setting: 2. Tune using inter_op_parallelism_threads for best performance.\n",
      "2022-02-23 14:28:11.251545: I tensorflow/compiler/mlir/mlir_graph_optimization_pass.cc:185] None of the MLIR Optimization Passes are enabled (registered 2)\n"
     ]
    }
   ],
   "source": [
    "SepalLengthCm = np.array(train_features['SepalLengthCm'])\n",
    "\n",
    "SepalLengthCm_normalizer = layers.Normalization(input_shape=[1,], axis=None)\n",
    "SepalLengthCm_normalizer.adapt(SepalLengthCm)"
   ]
  },
  {
   "cell_type": "markdown",
   "id": "34651212",
   "metadata": {
    "papermill": {
     "duration": 0.029656,
     "end_time": "2022-02-23T14:28:11.638351",
     "exception": false,
     "start_time": "2022-02-23T14:28:11.608695",
     "status": "completed"
    },
    "tags": []
   },
   "source": [
    "Build the Keras Sequential model"
   ]
  },
  {
   "cell_type": "code",
   "execution_count": 12,
   "id": "dde80409",
   "metadata": {
    "execution": {
     "iopub.execute_input": "2022-02-23T14:28:11.702181Z",
     "iopub.status.busy": "2022-02-23T14:28:11.701459Z",
     "iopub.status.idle": "2022-02-23T14:28:11.744681Z",
     "shell.execute_reply": "2022-02-23T14:28:11.745525Z",
     "shell.execute_reply.started": "2022-02-23T13:56:48.480491Z"
    },
    "papermill": {
     "duration": 0.077204,
     "end_time": "2022-02-23T14:28:11.745982",
     "exception": false,
     "start_time": "2022-02-23T14:28:11.668778",
     "status": "completed"
    },
    "tags": []
   },
   "outputs": [
    {
     "name": "stdout",
     "output_type": "stream",
     "text": [
      "Model: \"sequential\"\n",
      "_________________________________________________________________\n",
      "Layer (type)                 Output Shape              Param #   \n",
      "=================================================================\n",
      "normalization_1 (Normalizati (None, 1)                 3         \n",
      "_________________________________________________________________\n",
      "dense (Dense)                (None, 1)                 2         \n",
      "=================================================================\n",
      "Total params: 5\n",
      "Trainable params: 2\n",
      "Non-trainable params: 3\n",
      "_________________________________________________________________\n"
     ]
    }
   ],
   "source": [
    "SepalLengthCm_model = tf.keras.Sequential([SepalLengthCm_normalizer,\n",
    "                                           layers.Dense(units=1)])\n",
    "\n",
    "SepalLengthCm_model.summary()"
   ]
  },
  {
   "cell_type": "markdown",
   "id": "8be871c8",
   "metadata": {
    "papermill": {
     "duration": 0.030208,
     "end_time": "2022-02-23T14:28:11.808270",
     "exception": false,
     "start_time": "2022-02-23T14:28:11.778062",
     "status": "completed"
    },
    "tags": []
   },
   "source": [
    "Run the untrained model on the first 10 'SepalLengthCm' values. The output won't be good, but notice that it has the expected shape of (10, 1)"
   ]
  },
  {
   "cell_type": "code",
   "execution_count": 13,
   "id": "70b1598d",
   "metadata": {
    "execution": {
     "iopub.execute_input": "2022-02-23T14:28:11.876413Z",
     "iopub.status.busy": "2022-02-23T14:28:11.875720Z",
     "iopub.status.idle": "2022-02-23T14:28:12.074287Z",
     "shell.execute_reply": "2022-02-23T14:28:12.073539Z",
     "shell.execute_reply.started": "2022-02-23T13:59:21.556693Z"
    },
    "papermill": {
     "duration": 0.234466,
     "end_time": "2022-02-23T14:28:12.074447",
     "exception": false,
     "start_time": "2022-02-23T14:28:11.839981",
     "status": "completed"
    },
    "tags": []
   },
   "outputs": [
    {
     "data": {
      "text/plain": [
       "array([[ 0.027],\n",
       "       [-0.205],\n",
       "       [ 0.376],\n",
       "       [-1.716],\n",
       "       [ 0.957],\n",
       "       [-0.554],\n",
       "       [ 0.957],\n",
       "       [-1.019],\n",
       "       [-1.135],\n",
       "       [-0.322]], dtype=float32)"
      ]
     },
     "execution_count": 13,
     "metadata": {},
     "output_type": "execute_result"
    }
   ],
   "source": [
    "SepalLengthCm_model.predict(SepalLengthCm[:10])"
   ]
  },
  {
   "cell_type": "code",
   "execution_count": 14,
   "id": "a7e57dca",
   "metadata": {
    "execution": {
     "iopub.execute_input": "2022-02-23T14:28:12.146451Z",
     "iopub.status.busy": "2022-02-23T14:28:12.145162Z",
     "iopub.status.idle": "2022-02-23T14:28:12.148709Z",
     "shell.execute_reply": "2022-02-23T14:28:12.148132Z",
     "shell.execute_reply.started": "2022-02-23T14:09:11.298079Z"
    },
    "papermill": {
     "duration": 0.041794,
     "end_time": "2022-02-23T14:28:12.148863",
     "exception": false,
     "start_time": "2022-02-23T14:28:12.107069",
     "status": "completed"
    },
    "tags": []
   },
   "outputs": [],
   "source": [
    "train_labels = train_features.pop('PetalWidthCm')\n",
    "test_labels = test_features.pop('PetalWidthCm')"
   ]
  },
  {
   "cell_type": "code",
   "execution_count": 15,
   "id": "61e1c63e",
   "metadata": {
    "execution": {
     "iopub.execute_input": "2022-02-23T14:28:12.228350Z",
     "iopub.status.busy": "2022-02-23T14:28:12.225514Z",
     "iopub.status.idle": "2022-02-23T14:28:16.594802Z",
     "shell.execute_reply": "2022-02-23T14:28:16.594069Z",
     "shell.execute_reply.started": "2022-02-23T14:09:21.049195Z"
    },
    "papermill": {
     "duration": 4.414933,
     "end_time": "2022-02-23T14:28:16.595001",
     "exception": false,
     "start_time": "2022-02-23T14:28:12.180068",
     "status": "completed"
    },
    "tags": []
   },
   "outputs": [],
   "source": [
    "SepalLengthCm_model.compile(optimizer=tf.optimizers.Adam(learning_rate=0.1),\n",
    "                         loss='mean_absolute_error')\n",
    "\n",
    "\n",
    "history = SepalLengthCm_model.fit(\n",
    "    train_features['SepalLengthCm'],\n",
    "    train_labels,\n",
    "    epochs=100,\n",
    "    # Suppress logging.\n",
    "    verbose=0,\n",
    "    # Calculate validation results on 20% of the training data.\n",
    "    validation_split = 0.2)"
   ]
  },
  {
   "cell_type": "code",
   "execution_count": 16,
   "id": "79e0be80",
   "metadata": {
    "execution": {
     "iopub.execute_input": "2022-02-23T14:28:16.669983Z",
     "iopub.status.busy": "2022-02-23T14:28:16.660644Z",
     "iopub.status.idle": "2022-02-23T14:28:16.672833Z",
     "shell.execute_reply": "2022-02-23T14:28:16.673392Z",
     "shell.execute_reply.started": "2022-02-23T14:10:06.009691Z"
    },
    "papermill": {
     "duration": 0.046592,
     "end_time": "2022-02-23T14:28:16.673585",
     "exception": false,
     "start_time": "2022-02-23T14:28:16.626993",
     "status": "completed"
    },
    "tags": []
   },
   "outputs": [
    {
     "data": {
      "text/html": [
       "<div>\n",
       "<style scoped>\n",
       "    .dataframe tbody tr th:only-of-type {\n",
       "        vertical-align: middle;\n",
       "    }\n",
       "\n",
       "    .dataframe tbody tr th {\n",
       "        vertical-align: top;\n",
       "    }\n",
       "\n",
       "    .dataframe thead th {\n",
       "        text-align: right;\n",
       "    }\n",
       "</style>\n",
       "<table border=\"1\" class=\"dataframe\">\n",
       "  <thead>\n",
       "    <tr style=\"text-align: right;\">\n",
       "      <th></th>\n",
       "      <th>loss</th>\n",
       "      <th>val_loss</th>\n",
       "      <th>epoch</th>\n",
       "    </tr>\n",
       "  </thead>\n",
       "  <tbody>\n",
       "    <tr>\n",
       "      <th>95</th>\n",
       "      <td>0.337494</td>\n",
       "      <td>0.453229</td>\n",
       "      <td>95</td>\n",
       "    </tr>\n",
       "    <tr>\n",
       "      <th>96</th>\n",
       "      <td>0.337173</td>\n",
       "      <td>0.459120</td>\n",
       "      <td>96</td>\n",
       "    </tr>\n",
       "    <tr>\n",
       "      <th>97</th>\n",
       "      <td>0.337540</td>\n",
       "      <td>0.462176</td>\n",
       "      <td>97</td>\n",
       "    </tr>\n",
       "    <tr>\n",
       "      <th>98</th>\n",
       "      <td>0.338170</td>\n",
       "      <td>0.454669</td>\n",
       "      <td>98</td>\n",
       "    </tr>\n",
       "    <tr>\n",
       "      <th>99</th>\n",
       "      <td>0.338159</td>\n",
       "      <td>0.449072</td>\n",
       "      <td>99</td>\n",
       "    </tr>\n",
       "  </tbody>\n",
       "</table>\n",
       "</div>"
      ],
      "text/plain": [
       "        loss  val_loss  epoch\n",
       "95  0.337494  0.453229     95\n",
       "96  0.337173  0.459120     96\n",
       "97  0.337540  0.462176     97\n",
       "98  0.338170  0.454669     98\n",
       "99  0.338159  0.449072     99"
      ]
     },
     "execution_count": 16,
     "metadata": {},
     "output_type": "execute_result"
    }
   ],
   "source": [
    "hist = pd.DataFrame(history.history)\n",
    "hist['epoch'] = history.epoch\n",
    "hist.tail()"
   ]
  },
  {
   "cell_type": "code",
   "execution_count": 17,
   "id": "5be344c9",
   "metadata": {
    "execution": {
     "iopub.execute_input": "2022-02-23T14:28:16.744761Z",
     "iopub.status.busy": "2022-02-23T14:28:16.744081Z",
     "iopub.status.idle": "2022-02-23T14:28:16.748950Z",
     "shell.execute_reply": "2022-02-23T14:28:16.748359Z",
     "shell.execute_reply.started": "2022-02-23T14:17:10.018459Z"
    },
    "papermill": {
     "duration": 0.043149,
     "end_time": "2022-02-23T14:28:16.749096",
     "exception": false,
     "start_time": "2022-02-23T14:28:16.705947",
     "status": "completed"
    },
    "tags": []
   },
   "outputs": [],
   "source": [
    "def plot_loss(history):\n",
    "    plt.plot(history.history['loss'], label='loss')\n",
    "    plt.plot(history.history['val_loss'], label='val_loss')\n",
    "    plt.ylim([0, 10])\n",
    "    plt.xlabel('Epoch')\n",
    "    plt.ylabel('Error [MPG]')\n",
    "    plt.legend()\n",
    "    plt.grid(True)\n",
    "    "
   ]
  },
  {
   "cell_type": "code",
   "execution_count": 18,
   "id": "27fc9f7a",
   "metadata": {
    "execution": {
     "iopub.execute_input": "2022-02-23T14:28:16.834990Z",
     "iopub.status.busy": "2022-02-23T14:28:16.833822Z",
     "iopub.status.idle": "2022-02-23T14:28:17.057763Z",
     "shell.execute_reply": "2022-02-23T14:28:17.057224Z",
     "shell.execute_reply.started": "2022-02-23T14:18:08.188199Z"
    },
    "papermill": {
     "duration": 0.276478,
     "end_time": "2022-02-23T14:28:17.057940",
     "exception": false,
     "start_time": "2022-02-23T14:28:16.781462",
     "status": "completed"
    },
    "tags": []
   },
   "outputs": [
    {
     "data": {
      "image/png": "[encoded data removed]",
      "text/plain": [
       "<Figure size 432x288 with 1 Axes>"
      ]
     },
     "metadata": {
      "needs_background": "light"
     },
     "output_type": "display_data"
    }
   ],
   "source": [
    "plot_loss(history)"
   ]
  },
  {
   "cell_type": "code",
   "execution_count": 19,
   "id": "6807ee19",
   "metadata": {
    "execution": {
     "iopub.execute_input": "2022-02-23T14:28:17.128134Z",
     "iopub.status.busy": "2022-02-23T14:28:17.127129Z",
     "iopub.status.idle": "2022-02-23T14:28:17.265932Z",
     "shell.execute_reply": "2022-02-23T14:28:17.266537Z",
     "shell.execute_reply.started": "2022-02-23T14:20:10.881569Z"
    },
    "papermill": {
     "duration": 0.17573,
     "end_time": "2022-02-23T14:28:17.266743",
     "exception": false,
     "start_time": "2022-02-23T14:28:17.091013",
     "status": "completed"
    },
    "tags": []
   },
   "outputs": [],
   "source": [
    "x = tf.linspace(0.0, 250, 251)\n",
    "y = SepalLengthCm_model.predict(x)"
   ]
  },
  {
   "cell_type": "code",
   "execution_count": 20,
   "id": "72189bee",
   "metadata": {
    "execution": {
     "iopub.execute_input": "2022-02-23T14:28:17.338505Z",
     "iopub.status.busy": "2022-02-23T14:28:17.337454Z",
     "iopub.status.idle": "2022-02-23T14:28:17.343261Z",
     "shell.execute_reply": "2022-02-23T14:28:17.343762Z",
     "shell.execute_reply.started": "2022-02-23T14:22:26.165740Z"
    },
    "papermill": {
     "duration": 0.042407,
     "end_time": "2022-02-23T14:28:17.344002",
     "exception": false,
     "start_time": "2022-02-23T14:28:17.301595",
     "status": "completed"
    },
    "tags": []
   },
   "outputs": [],
   "source": [
    "def plot_horsepower(x, y):\n",
    "    plt.scatter(train_features['SepalLengthCm'], train_labels, label='SepalWidthCm')\n",
    "    plt.plot(x, y, color='k', label='Predictions')\n",
    "    plt.xlabel('SepalLengthCm')\n",
    "    plt.ylabel('PetalLengthCm')\n",
    "    plt.legend()"
   ]
  },
  {
   "cell_type": "code",
   "execution_count": 21,
   "id": "740f1ad7",
   "metadata": {
    "execution": {
     "iopub.execute_input": "2022-02-23T14:28:17.414692Z",
     "iopub.status.busy": "2022-02-23T14:28:17.413697Z",
     "iopub.status.idle": "2022-02-23T14:28:17.700133Z",
     "shell.execute_reply": "2022-02-23T14:28:17.700609Z",
     "shell.execute_reply.started": "2022-02-23T14:22:44.147704Z"
    },
    "papermill": {
     "duration": 0.323863,
     "end_time": "2022-02-23T14:28:17.700792",
     "exception": false,
     "start_time": "2022-02-23T14:28:17.376929",
     "status": "completed"
    },
    "tags": []
   },
   "outputs": [
    {
     "data": {
      "image/png": "[encoded data removed]",
      "text/plain": [
       "<Figure size 432x288 with 1 Axes>"
      ]
     },
     "metadata": {
      "needs_background": "light"
     },
     "output_type": "display_data"
    }
   ],
   "source": [
    "plot_horsepower(x, y)"
   ]
  },
  {
   "cell_type": "code",
   "execution_count": null,
   "id": "e2b81415",
   "metadata": {
    "papermill": {
     "duration": 0.033849,
     "end_time": "2022-02-23T14:28:17.768554",
     "exception": false,
     "start_time": "2022-02-23T14:28:17.734705",
     "status": "completed"
    },
    "tags": []
   },
   "outputs": [],
   "source": []
  }
 ],
 "metadata": {
  "kernelspec": {
   "display_name": "Python 3",
   "language": "python",
   "name": "python3"
  },
  "language_info": {
   "codemirror_mode": {
    "name": "ipython",
    "version": 3
   },
   "file_extension": ".py",
   "mimetype": "text/x-python",
   "name": "python",
   "nbconvert_exporter": "python",
   "pygments_lexer": "ipython3",
   "version": "3.7.12"
  },
  "papermill": {
   "default_parameters": {},
   "duration": 37.230192,
   "end_time": "2022-02-23T14:28:21.184866",
   "environment_variables": {},
   "exception": null,
   "input_path": "__notebook__.ipynb",
   "output_path": "__notebook__.ipynb",
   "parameters": {},
   "start_time": "2022-02-23T14:27:43.954674",
   "version": "2.3.3"
  }
 },
 "nbformat": 4,
 "nbformat_minor": 5
}
